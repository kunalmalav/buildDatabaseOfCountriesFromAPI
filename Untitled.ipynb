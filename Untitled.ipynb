{
 "cells": [
  {
   "cell_type": "markdown",
   "id": "b816d985",
   "metadata": {},
   "source": [
    "# Notebook to build database on countries from a free API\n",
    "\n",
    " This Notebook shows how to use a free API (no authorization or API key needed) to download some basic information about various countries around the world and put them in a DataFrame."
   ]
  },
  {
   "cell_type": "markdown",
   "id": "1f4b90a6",
   "metadata": {},
   "source": [
    "## Import libraries"
   ]
  },
  {
   "cell_type": "code",
   "execution_count": 1,
   "id": "8cc6845e",
   "metadata": {},
   "outputs": [],
   "source": [
    "import urllib.request, urllib.parse\n",
    "from urllib.error import HTTPError,URLError\n",
    "import pandas as pd\n"
   ]
  },
  {
   "cell_type": "markdown",
   "id": "b14b4a16",
   "metadata": {},
   "source": [
    "### Define the base URL"
   ]
  },
  {
   "cell_type": "code",
   "execution_count": 2,
   "id": "2808be28",
   "metadata": {},
   "outputs": [],
   "source": [
    "serviceurl = 'https://restcountries.eu/rest/v2/name/'"
   ]
  },
  {
   "cell_type": "markdown",
   "id": "59050447",
   "metadata": {},
   "source": [
    "### Define function to pull the country data from the API"
   ]
  },
  {
   "cell_type": "code",
   "execution_count": 3,
   "id": "3aac6372",
   "metadata": {},
   "outputs": [],
   "source": [
    "def get_country_data(country):\n",
    "    country_name=country\n",
    "    url = serviceurl + country_name\n",
    "    \n",
    "    try: \n",
    "        uh = urllib.request.urlopen(url)\n",
    "    except HTTPError as e:\n",
    "        print(\"Sorry! Could not retrive anything\")\n",
    "        return None\n",
    "    except URLError as e:\n",
    "        print('Failed to reach a server.')\n",
    "        print('Reason: ', e.reason)\n",
    "        return None\n",
    "    else:\n",
    "        data = uh.read().decode()\n",
    "        print(\"Retrieved data on {}. Total {} characters read.\".format(country_name,len(data)))\n",
    "        return data"
   ]
  },
  {
   "cell_type": "markdown",
   "id": "42a8ec20",
   "metadata": {},
   "source": [
    "### Tests"
   ]
  },
  {
   "cell_type": "code",
   "execution_count": 4,
   "id": "d00956ed",
   "metadata": {},
   "outputs": [],
   "source": [
    "country_name = 'Switzerland'"
   ]
  },
  {
   "cell_type": "code",
   "execution_count": 5,
   "id": "a6eb571a",
   "metadata": {},
   "outputs": [],
   "source": [
    "data=get_country_data(country_name)"
   ]
  },
  {
   "cell_type": "code",
   "execution_count": 6,
   "id": "2f49d1d1",
   "metadata": {},
   "outputs": [],
   "source": [
    "country_name1 = 'Switzerland1'"
   ]
  },
  {
   "cell_type": "code",
   "execution_count": 7,
   "id": "56875eda",
   "metadata": {},
   "outputs": [
    {
     "name": "stdout",
     "output_type": "stream",
     "text": [
      "Failed to reach a server.\n",
      "Reason:  [Errno 60] Operation timed out\n"
     ]
    }
   ],
   "source": [
    "data1=get_country_data(country_name1)"
   ]
  },
  {
   "cell_type": "markdown",
   "id": "ae7f876e",
   "metadata": {},
   "source": [
    "## Use the built-in JSON library to read the data properly"
   ]
  },
  {
   "cell_type": "code",
   "execution_count": 8,
   "id": "b08d5e00",
   "metadata": {},
   "outputs": [],
   "source": [
    "import json"
   ]
  },
  {
   "cell_type": "code",
   "execution_count": 9,
   "id": "d7bca68e",
   "metadata": {},
   "outputs": [
    {
     "ename": "TypeError",
     "evalue": "the JSON object must be str, bytes or bytearray, not NoneType",
     "output_type": "error",
     "traceback": [
      "\u001b[0;31m---------------------------------------------------------------------------\u001b[0m",
      "\u001b[0;31mTypeError\u001b[0m                                 Traceback (most recent call last)",
      "Cell \u001b[0;32mIn[9], line 2\u001b[0m\n\u001b[1;32m      1\u001b[0m \u001b[38;5;66;03m# Load from string 'data'\u001b[39;00m\n\u001b[0;32m----> 2\u001b[0m x\u001b[38;5;241m=\u001b[39mjson\u001b[38;5;241m.\u001b[39mloads(data)\n",
      "File \u001b[0;32m~/anaconda3/lib/python3.11/json/__init__.py:339\u001b[0m, in \u001b[0;36mloads\u001b[0;34m(s, cls, object_hook, parse_float, parse_int, parse_constant, object_pairs_hook, **kw)\u001b[0m\n\u001b[1;32m    337\u001b[0m \u001b[38;5;28;01melse\u001b[39;00m:\n\u001b[1;32m    338\u001b[0m     \u001b[38;5;28;01mif\u001b[39;00m \u001b[38;5;129;01mnot\u001b[39;00m \u001b[38;5;28misinstance\u001b[39m(s, (\u001b[38;5;28mbytes\u001b[39m, \u001b[38;5;28mbytearray\u001b[39m)):\n\u001b[0;32m--> 339\u001b[0m         \u001b[38;5;28;01mraise\u001b[39;00m \u001b[38;5;167;01mTypeError\u001b[39;00m(\u001b[38;5;124mf\u001b[39m\u001b[38;5;124m'\u001b[39m\u001b[38;5;124mthe JSON object must be str, bytes or bytearray, \u001b[39m\u001b[38;5;124m'\u001b[39m\n\u001b[1;32m    340\u001b[0m                         \u001b[38;5;124mf\u001b[39m\u001b[38;5;124m'\u001b[39m\u001b[38;5;124mnot \u001b[39m\u001b[38;5;132;01m{\u001b[39;00ms\u001b[38;5;241m.\u001b[39m\u001b[38;5;18m__class__\u001b[39m\u001b[38;5;241m.\u001b[39m\u001b[38;5;18m__name__\u001b[39m\u001b[38;5;132;01m}\u001b[39;00m\u001b[38;5;124m'\u001b[39m)\n\u001b[1;32m    341\u001b[0m     s \u001b[38;5;241m=\u001b[39m s\u001b[38;5;241m.\u001b[39mdecode(detect_encoding(s), \u001b[38;5;124m'\u001b[39m\u001b[38;5;124msurrogatepass\u001b[39m\u001b[38;5;124m'\u001b[39m)\n\u001b[1;32m    343\u001b[0m \u001b[38;5;28;01mif\u001b[39;00m (\u001b[38;5;28mcls\u001b[39m \u001b[38;5;129;01mis\u001b[39;00m \u001b[38;5;28;01mNone\u001b[39;00m \u001b[38;5;129;01mand\u001b[39;00m object_hook \u001b[38;5;129;01mis\u001b[39;00m \u001b[38;5;28;01mNone\u001b[39;00m \u001b[38;5;129;01mand\u001b[39;00m\n\u001b[1;32m    344\u001b[0m         parse_int \u001b[38;5;129;01mis\u001b[39;00m \u001b[38;5;28;01mNone\u001b[39;00m \u001b[38;5;129;01mand\u001b[39;00m parse_float \u001b[38;5;129;01mis\u001b[39;00m \u001b[38;5;28;01mNone\u001b[39;00m \u001b[38;5;129;01mand\u001b[39;00m\n\u001b[1;32m    345\u001b[0m         parse_constant \u001b[38;5;129;01mis\u001b[39;00m \u001b[38;5;28;01mNone\u001b[39;00m \u001b[38;5;129;01mand\u001b[39;00m object_pairs_hook \u001b[38;5;129;01mis\u001b[39;00m \u001b[38;5;28;01mNone\u001b[39;00m \u001b[38;5;129;01mand\u001b[39;00m \u001b[38;5;129;01mnot\u001b[39;00m kw):\n",
      "\u001b[0;31mTypeError\u001b[0m: the JSON object must be str, bytes or bytearray, not NoneType"
     ]
    }
   ],
   "source": [
    "# Load from string 'data'\n",
    "x=json.loads(data)"
   ]
  },
  {
   "cell_type": "code",
   "execution_count": null,
   "id": "c13b11ca",
   "metadata": {},
   "outputs": [],
   "source": [
    "# Load the only element\n",
    "y=x[0]"
   ]
  },
  {
   "cell_type": "code",
   "execution_count": null,
   "id": "5413ac34",
   "metadata": {},
   "outputs": [],
   "source": [
    "type(y)"
   ]
  },
  {
   "cell_type": "code",
   "execution_count": null,
   "id": "cde0d596",
   "metadata": {},
   "outputs": [],
   "source": [
    "y.keys()"
   ]
  },
  {
   "cell_type": "code",
   "execution_count": null,
   "id": "d0498f67",
   "metadata": {},
   "outputs": [],
   "source": [
    "for k,v in y.items():\n",
    "    print(f\"{k}: {v}\")"
   ]
  },
  {
   "cell_type": "code",
   "execution_count": null,
   "id": "5d1a9cb8",
   "metadata": {},
   "outputs": [],
   "source": [
    "for i in y['languages']:\n",
    "    print(i['name'])"
   ]
  },
  {
   "cell_type": "markdown",
   "id": "5962f27e",
   "metadata": {},
   "source": [
    "### Define a function which can take a list of countries and return a DataFrame containing key info"
   ]
  },
  {
   "cell_type": "markdown",
   "id": "2dfa8018",
   "metadata": {},
   "source": [
    "- Capital\n",
    "- Region\n",
    "- Sub-region\n",
    "- Population\n",
    "- lattitude/longitude\n",
    "- Area\n",
    "- Gini index\n",
    "- Timezones\n",
    "- Currencies\n",
    "- Languages"
   ]
  },
  {
   "cell_type": "code",
   "execution_count": null,
   "id": "c20b5a48",
   "metadata": {},
   "outputs": [],
   "source": [
    "def build_country_database(list_country):\n",
    "    \"\"\"\n",
    "    \"\"\"\n",
    "    import pandas as pd\n",
    "    import json\n",
    "    # Define an empty dictionary with keys\n",
    "    country_dict={'Country':[],'Capital':[],'Region':[],'Sub-region':[],'Population':[],\n",
    "                  'Lattitude':[],'Longitude':[],'Area':[],'Gini':[],'Timezones':[],\n",
    "                  'Currencies':[],'Languages':[]}\n",
    "    \n",
    "    for c in list_country:\n",
    "        data = get_country_data(c)\n",
    "        if data!=None:\n",
    "            x = json.loads(data)\n",
    "            y=x[0]\n",
    "            country_dict['Country'].append(y['name'])\n",
    "            country_dict['Capital'].append(y['capital'])\n",
    "            country_dict['Region'].append(y['region'])\n",
    "            country_dict['Sub-region'].append(y['subregion'])\n",
    "            country_dict['Population'].append(y['population'])\n",
    "            country_dict['Lattitude'].append(y['latlng'][0])\n",
    "            country_dict['Longitude'].append(y['latlng'][1])\n",
    "            country_dict['Area'].append(y['area'])\n",
    "            country_dict['Gini'].append(y['gini'])\n",
    "            # Note the code to handle possibility of multiple timezones as a list\n",
    "            if len(y['timezones'])>1:\n",
    "                country_dict['Timezones'].append(','.join(y['timezones']))\n",
    "            else:\n",
    "                country_dict['Timezones'].append(y['timezones'][0])\n",
    "            # Note the code to handle possibility of multiple currencies as dictionaries\n",
    "            if len(y['currencies'])>1:\n",
    "                lst_currencies = []\n",
    "                for i in y['currencies']:\n",
    "                    lst_currencies.append(i['name'])\n",
    "                country_dict['Currencies'].append(','.join(lst_currencies))\n",
    "            else:\n",
    "                country_dict['Currencies'].append(y['currencies'][0]['name'])\n",
    "            # Note the code to handle possibility of multiple languages as dictionaries\n",
    "            if len(y['languages'])>1:\n",
    "                lst_languages = []\n",
    "                for i in y['languages']:\n",
    "                    lst_languages.append(i['name'])\n",
    "                country_dict['Languages'].append(','.join(lst_languages))\n",
    "            else:\n",
    "                country_dict['Languages'].append(y['languages'][0]['name'])\n",
    "    \n",
    "    # Return as a Pandas DataFrame\n",
    "    return pd.DataFrame(country_dict)"
   ]
  },
  {
   "cell_type": "code",
   "execution_count": null,
   "id": "388d7e15",
   "metadata": {},
   "outputs": [],
   "source": [
    "df1=build_country_database(['Nigeria','Switzerland','France','Russia','Kenya','Singapore'])"
   ]
  },
  {
   "cell_type": "code",
   "execution_count": 10,
   "id": "7f200961",
   "metadata": {},
   "outputs": [
    {
     "ename": "NameError",
     "evalue": "name 'df1' is not defined",
     "output_type": "error",
     "traceback": [
      "\u001b[0;31m---------------------------------------------------------------------------\u001b[0m",
      "\u001b[0;31mNameError\u001b[0m                                 Traceback (most recent call last)",
      "Cell \u001b[0;32mIn[10], line 1\u001b[0m\n\u001b[0;32m----> 1\u001b[0m df1\n",
      "\u001b[0;31mNameError\u001b[0m: name 'df1' is not defined"
     ]
    }
   ],
   "source": [
    "df1"
   ]
  }
 ],
 "metadata": {
  "kernelspec": {
   "display_name": "Python 3 (ipykernel)",
   "language": "python",
   "name": "python3"
  },
  "language_info": {
   "codemirror_mode": {
    "name": "ipython",
    "version": 3
   },
   "file_extension": ".py",
   "mimetype": "text/x-python",
   "name": "python",
   "nbconvert_exporter": "python",
   "pygments_lexer": "ipython3",
   "version": "3.11.4"
  }
 },
 "nbformat": 4,
 "nbformat_minor": 5
}
